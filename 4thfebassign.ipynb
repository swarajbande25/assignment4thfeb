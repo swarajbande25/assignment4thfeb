{
 "cells": [
  {
   "cell_type": "code",
   "execution_count": 1,
   "id": "c985258d-8d73-4a9c-9ac8-afaf82a37472",
   "metadata": {},
   "outputs": [],
   "source": [
    "#Q1\n",
    "l=[('Sachin Tendulkar', 34357), ('Ricky Ponting', 27483), ('Jack Kallis', 25534), ('Virat Kohli', 24936)] \n"
   ]
  },
  {
   "cell_type": "code",
   "execution_count": 15,
   "id": "ad8d9af1-baa5-48eb-a493-3d9529d6c2dd",
   "metadata": {},
   "outputs": [
    {
     "name": "stdout",
     "output_type": "stream",
     "text": [
      "[('Virat Kohli', 24936), ('Jack Kallis', 25534), ('Ricky Ponting', 27483), ('Sachin Tendulkar', 34357)]\n"
     ]
    }
   ],
   "source": [
    "l.sort(key= lambda x: x[1])\n",
    "print(l)"
   ]
  },
  {
   "cell_type": "code",
   "execution_count": 16,
   "id": "24f2ac01-ada8-41b3-9096-44b35033bf3a",
   "metadata": {},
   "outputs": [],
   "source": [
    "#Q2\n",
    "l1=[1, 2, 3, 4, 5, 6, 7, 8, 9, 10] \n"
   ]
  },
  {
   "cell_type": "code",
   "execution_count": 22,
   "id": "bcdf0e87-092d-4aa3-9bb4-5c02875011ef",
   "metadata": {},
   "outputs": [
    {
     "data": {
      "text/plain": [
       "[1, 4, 9, 16, 25, 36, 49, 64, 81, 100]"
      ]
     },
     "execution_count": 22,
     "metadata": {},
     "output_type": "execute_result"
    }
   ],
   "source": [
    "list(map(lambda x:x**2,l1))"
   ]
  },
  {
   "cell_type": "code",
   "execution_count": 23,
   "id": "2e723aaf-f2fe-4b41-8f87-ebcfa321d078",
   "metadata": {},
   "outputs": [],
   "source": [
    "#Q3\n",
    "l2=[1, 2, 3, 4, 5, 6, 7, 8, 9, 10] "
   ]
  },
  {
   "cell_type": "code",
   "execution_count": 28,
   "id": "52b8ff83-04dd-45f6-bfa3-33642555a5d8",
   "metadata": {},
   "outputs": [
    {
     "data": {
      "text/plain": [
       "('1', '2', '3', '4', '5', '6', '7', '8', '9', '10')"
      ]
     },
     "execution_count": 28,
     "metadata": {},
     "output_type": "execute_result"
    }
   ],
   "source": [
    "tuple(list(map(lambda x:str(x),l2)))"
   ]
  },
  {
   "cell_type": "code",
   "execution_count": 32,
   "id": "ca1e4bc0-b347-4039-a37b-8bf02067e9ad",
   "metadata": {},
   "outputs": [
    {
     "name": "stdout",
     "output_type": "stream",
     "text": [
      "[1, 2, 3, 4, 5, 6, 7, 8, 9, 10, 11, 12, 13, 14, 15, 16, 17, 18, 19, 20, 21, 22, 23, 24, 25]\n"
     ]
    }
   ],
   "source": [
    "#Q4\n",
    "l3=[]\n",
    "for i in range(1,26):\n",
    "    l3.append(i)\n",
    "print(l3)"
   ]
  },
  {
   "cell_type": "code",
   "execution_count": 37,
   "id": "6adf8a71-78a9-48a7-8e0a-ed97bb687095",
   "metadata": {},
   "outputs": [],
   "source": [
    "from functools import reduce"
   ]
  },
  {
   "cell_type": "code",
   "execution_count": 38,
   "id": "89c65db1-ba18-4918-8cd0-a7297167ddaf",
   "metadata": {},
   "outputs": [
    {
     "data": {
      "text/plain": [
       "15511210043330985984000000"
      ]
     },
     "execution_count": 38,
     "metadata": {},
     "output_type": "execute_result"
    }
   ],
   "source": [
    "reduce(lambda x,y:x*y,l3)"
   ]
  },
  {
   "cell_type": "code",
   "execution_count": 39,
   "id": "58e1ffe0-5360-4330-ada4-98ee44a2b313",
   "metadata": {},
   "outputs": [],
   "source": [
    "#Q5\n",
    "l4=[2, 3, 6, 9, 27, 60, 90, 120, 55, 46] \n"
   ]
  },
  {
   "cell_type": "code",
   "execution_count": 40,
   "id": "ee8030dd-82bd-4a1a-81cc-210a3eca8add",
   "metadata": {},
   "outputs": [
    {
     "data": {
      "text/plain": [
       "[6, 60, 90, 120]"
      ]
     },
     "execution_count": 40,
     "metadata": {},
     "output_type": "execute_result"
    }
   ],
   "source": [
    "list(filter(lambda x:x%2==0 and x%3==0,l4))"
   ]
  },
  {
   "cell_type": "code",
   "execution_count": 41,
   "id": "f8c0497a-fd0d-47e7-af72-0a35ddcac304",
   "metadata": {},
   "outputs": [],
   "source": [
    "#Q6\n",
    "l5=['python', 'php', 'aba', 'radar', 'level'] "
   ]
  },
  {
   "cell_type": "code",
   "execution_count": 45,
   "id": "ecf7d41c-7ed6-42b5-9fd1-e864cce6de26",
   "metadata": {},
   "outputs": [
    {
     "data": {
      "text/plain": [
       "['php', 'aba', 'radar', 'level']"
      ]
     },
     "execution_count": 45,
     "metadata": {},
     "output_type": "execute_result"
    }
   ],
   "source": [
    "list(filter(lambda x: x==x[::-1],l5))"
   ]
  },
  {
   "cell_type": "code",
   "execution_count": null,
   "id": "bb7d978b-3cb1-4556-b1b3-95d9396fa488",
   "metadata": {},
   "outputs": [],
   "source": []
  }
 ],
 "metadata": {
  "kernelspec": {
   "display_name": "Python 3 (ipykernel)",
   "language": "python",
   "name": "python3"
  },
  "language_info": {
   "codemirror_mode": {
    "name": "ipython",
    "version": 3
   },
   "file_extension": ".py",
   "mimetype": "text/x-python",
   "name": "python",
   "nbconvert_exporter": "python",
   "pygments_lexer": "ipython3",
   "version": "3.10.8"
  }
 },
 "nbformat": 4,
 "nbformat_minor": 5
}
